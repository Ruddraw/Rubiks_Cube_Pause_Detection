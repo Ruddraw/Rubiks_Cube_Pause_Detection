{
 "cells": [
  {
   "cell_type": "code",
   "execution_count": 1,
   "id": "efbabe96",
   "metadata": {},
   "outputs": [],
   "source": [
    "import os\n",
    "import tensorflow as tf\n",
    "import numpy as np\n",
    "import matplotlib.pyplot as plt\n",
    "import cv2"
   ]
  },
  {
   "cell_type": "code",
   "execution_count": null,
   "id": "a1be3c5a",
   "metadata": {},
   "outputs": [
    {
     "name": "stdout",
     "output_type": "stream",
     "text": [
      "Model loaded successfully!\n"
     ]
    },
    {
     "name": "stderr",
     "output_type": "stream",
     "text": [
      "2025-09-10 12:26:10.220 Python[53727:40379503] WARNING: Secure coding is not enabled for restorable state! Enable secure coding by implementing NSApplicationDelegate.applicationSupportsSecureRestorableState: and returning YES.\n"
     ]
    },
    {
     "data": {
      "image/png": "[encoded data removed]",
      "text/plain": [
       "<Figure size 640x480 with 1 Axes>"
      ]
     },
     "metadata": {},
     "output_type": "display_data"
    },
    {
     "name": "stdout",
     "output_type": "stream",
     "text": [
      "Total Solve Time: 17.73 seconds\n",
      "Pause Time: 10.93 seconds\n",
      "Moving Time: 6.80 seconds\n"
     ]
    }
   ],
   "source": [
    "model_path = 'mobilenetv2_cube_model.keras'  \n",
    "model = tf.keras.models.load_model(model_path)\n",
    "print(\"Model loaded successfully!\")\n",
    "\n",
    "#preprocess frame\n",
    "def preprocess_frame(frame):\n",
    "  img = cv2.resize(frame, (224, 224))\n",
    "  img = cv2.cvtColor(img, cv2.COLOR_BGR2RGB)  \n",
    "  img = np.array(img) / 255.0\n",
    "  img = tf.clip_by_value(img, 0.0, 1.0)\n",
    "  return np.expand_dims(img, axis=0)\n",
    "\n",
    "#video input\n",
    "def real_time_detection(video_path):\n",
    "  if not video_path or not os.path.exists(video_path):\n",
    "    print(\"Error: Invalid or empty video path. Please provide a valid path.\")\n",
    "    return\n",
    "\n",
    "  cap = cv2.VideoCapture(video_path)  \n",
    "  \n",
    "  if not cap.isOpened():\n",
    "    print(\"Error: Could not open video.\")\n",
    "    return\n",
    "\n",
    "  frame_count = 0\n",
    "  paused_time = 0\n",
    "  moving_time = 0\n",
    "  fps = cap.get(cv2.CAP_PROP_FPS) if cap.get(cv2.CAP_PROP_FPS) > 0 else 30  \n",
    "  frame_time = 1 / fps  \n",
    "  threshold = 0.5  \n",
    "\n",
    "  while cap.isOpened():\n",
    "    ret, frame = cap.read()\n",
    "    if not ret:\n",
    "      break\n",
    "\n",
    "    #preprocess\n",
    "    processed_frame = preprocess_frame(frame)\n",
    "    prediction = model.predict(processed_frame, verbose=0)[0][0]  \n",
    "    state = 'Paused' if prediction < threshold else 'Moving'\n",
    "    #formatting\n",
    "    color = (0, 0, 255) if state == 'Paused' else (0, 255, 0)\n",
    "    cv2.putText(frame, f\"{state} ({prediction:.2f})\", (30, 200), cv2.FONT_HERSHEY_SIMPLEX, 5, color, 6, cv2.LINE_AA)\n",
    "    cv2.rectangle(frame, (0, 0), (frame.shape[1], frame.shape[0]), color, 10)\n",
    "\n",
    "    #display\n",
    "    cv2.imshow('Real-Time Cube Detection', frame)\n",
    "\n",
    "    #time tracking)\n",
    "    if state == 'Paused':\n",
    "      paused_time += frame_time\n",
    "    else:\n",
    "      moving_time += frame_time\n",
    "\n",
    "    frame_count += 1\n",
    "    if cv2.waitKey(1) & 0xFF == ord('q'):  \n",
    "      break\n",
    "\n",
    "  cap.release()\n",
    "  cv2.destroyAllWindows()\n",
    "\n",
    "  total_time = frame_count / fps\n",
    "\n",
    "  #graph\n",
    "  times = [total_time, paused_time, moving_time]\n",
    "  labels = ['Total Time', 'Pause Time', 'Moving Time']\n",
    "  plt.bar(labels, times, color=['blue', 'red', 'green'])\n",
    "  plt.title('Video Solve Time Breakdown (in seconds)')\n",
    "  plt.ylabel('Time (seconds)')\n",
    "  plt.xlabel('Category')\n",
    "  plt.show()\n",
    "\n",
    "  print(f\"Total Solve Time: {total_time:.2f} seconds\")\n",
    "  print(f\"Pause Time: {paused_time:.2f} seconds\")\n",
    "  print(f\"Moving Time: {moving_time:.2f} seconds\")\n",
    "\n",
    "video_path = input(\"Enter the path to your video file (e.g., '../CubeDataSet/videos/test.mp4'): \")\n",
    "real_time_detection(video_path)\n"
   ]
  }
 ],
 "metadata": {
  "kernelspec": {
   "display_name": "ML-F6NBaWBz",
   "language": "python",
   "name": "python3"
  },
  "language_info": {
   "codemirror_mode": {
    "name": "ipython",
    "version": 3
   },
   "file_extension": ".py",
   "mimetype": "text/x-python",
   "name": "python",
   "nbconvert_exporter": "python",
   "pygments_lexer": "ipython3",
   "version": "3.11.3"
  }
 },
 "nbformat": 4,
 "nbformat_minor": 5
}
