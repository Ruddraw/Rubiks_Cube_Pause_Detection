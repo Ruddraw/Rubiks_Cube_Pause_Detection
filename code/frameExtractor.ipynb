{
 "cells": [
  {
   "cell_type": "code",
   "execution_count": 16,
   "id": "26c9b1fd",
   "metadata": {},
   "outputs": [
    {
     "name": "stdout",
     "output_type": "stream",
     "text": [
      "Done! 587 frames saved to ../CubeDataSet/frames/solve5\n"
     ]
    }
   ],
   "source": [
    "import os\n",
    "import cv2\n",
    "video_path = \"../CubeDataSet/videos/solve5_4k60.mp4\"\n",
    "#this get the solve number from the file name\n",
    "filename = os.path.basename(video_path)      \n",
    "solve_name = filename.split('_')[0]         \n",
    "\n",
    "#put the solve into the output folder with right name\n",
    "output_folder = os.path.join('../CubeDataSet/frames', solve_name)\n",
    "\n",
    "cap = cv2.VideoCapture(video_path)\n",
    "#check if the video can be opened or not\n",
    "if not cap.isOpened():\n",
    "  print(\"Error: Cannot open video\")\n",
    "\n",
    "#60fps taking 30 fps\n",
    "frame_interval = 2\n",
    "\n",
    "frame_count = 0\n",
    "saved_count = 0\n",
    "\n",
    "while True:\n",
    "  ret, frame = cap.read()\n",
    "  #end of the video\n",
    "  if not ret:\n",
    "    break\n",
    "\n",
    "  if frame_count % frame_interval == 0:\n",
    "    frame_name = f\"frame_{saved_count:04d}.jpg\"\n",
    "    frame_path = os.path.join(output_folder, frame_name)\n",
    "    cv2.imwrite(frame_path, frame)\n",
    "    saved_count +=1\n",
    "  frame_count+=1\n",
    "\n",
    "cap.release()\n",
    "print(f\"Done! {saved_count} frames saved to {output_folder}\")\n",
    "\n",
    "\n",
    "\n"
   ]
  },
  {
   "cell_type": "code",
   "execution_count": 10,
   "id": "078b0722",
   "metadata": {},
   "outputs": [
    {
     "name": "stdout",
     "output_type": "stream",
     "text": [
      "Frames saved at: /Users/ruddraw/Documents/Code/AI_Pause_Detection/code/frames/solve1\n"
     ]
    }
   ],
   "source": [
    "absolute_path = os.path.abspath(output_folder)\n",
    "print(f\"Frames saved at: {absolute_path}\")"
   ]
  }
 ],
 "metadata": {
  "kernelspec": {
   "display_name": "ML-F6NBaWBz",
   "language": "python",
   "name": "python3"
  },
  "language_info": {
   "codemirror_mode": {
    "name": "ipython",
    "version": 3
   },
   "file_extension": ".py",
   "mimetype": "text/x-python",
   "name": "python",
   "nbconvert_exporter": "python",
   "pygments_lexer": "ipython3",
   "version": "3.11.3"
  }
 },
 "nbformat": 4,
 "nbformat_minor": 5
}
