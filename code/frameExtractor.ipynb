{
 "cells": [
  {
   "cell_type": "code",
   "execution_count": 10,
   "id": "26c9b1fd",
   "metadata": {},
   "outputs": [
    {
     "name": "stdout",
     "output_type": "stream",
     "text": [
      "✅ Done! 567 frames saved in: /Users/ruddraw/Documents/Code/AI_Pause_Detection/CubeDataSet/frames/solve25\n"
     ]
    }
   ],
   "source": [
    "import os\n",
    "import cv2\n",
    "\n",
    "video_path = \"../CubeDataSet/videos/solve25.mov\"\n",
    "\n",
    "# Get solve name without extension\n",
    "filename = os.path.basename(video_path)      \n",
    "solve_name = os.path.splitext(filename)[0]   \n",
    "\n",
    "# Output folder\n",
    "output_folder = os.path.join('../CubeDataSet/frames', solve_name)\n",
    "os.makedirs(output_folder, exist_ok=True)  \n",
    "\n",
    "cap = cv2.VideoCapture(video_path)\n",
    "if not cap.isOpened():\n",
    "  print(\"Error: Cannot open video\")\n",
    "\n",
    "frame_interval = 1  \n",
    "frame_count = 0\n",
    "saved_count = 0\n",
    "\n",
    "while True:\n",
    "  ret, frame = cap.read()\n",
    "  if not ret:\n",
    "    break\n",
    "\n",
    "  if frame_count % frame_interval == 0:\n",
    "    frame_name = f\"frame_{saved_count:04d}.jpg\"\n",
    "    frame_path = os.path.join(output_folder, frame_name)\n",
    "    cv2.imwrite(frame_path, frame)\n",
    "    saved_count += 1\n",
    "  frame_count += 1\n",
    "\n",
    "cap.release()\n",
    "\n",
    "print(f\"✅ Done! {saved_count} frames saved in: {os.path.abspath(output_folder)}\")\n"
   ]
  }
 ],
 "metadata": {
  "kernelspec": {
   "display_name": "ML-F6NBaWBz",
   "language": "python",
   "name": "python3"
  },
  "language_info": {
   "codemirror_mode": {
    "name": "ipython",
    "version": 3
   },
   "file_extension": ".py",
   "mimetype": "text/x-python",
   "name": "python",
   "nbconvert_exporter": "python",
   "pygments_lexer": "ipython3",
   "version": "3.11.3"
  }
 },
 "nbformat": 4,
 "nbformat_minor": 5
}
